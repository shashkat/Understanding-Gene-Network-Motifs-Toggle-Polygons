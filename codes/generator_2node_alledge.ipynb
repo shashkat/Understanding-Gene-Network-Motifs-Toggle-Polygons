{
 "cells": [
  {
   "cell_type": "code",
   "execution_count": 2,
   "metadata": {},
   "outputs": [],
   "source": [
    "import pandas as pd\n",
    "import random\n",
    "import numpy as np\n",
    "\n",
    "ab1 = ab2 = ba1 = ba2 = 0"
   ]
  },
  {
   "cell_type": "code",
   "execution_count": 3,
   "metadata": {},
   "outputs": [],
   "source": [
    "ind = 0\n",
    "\n",
    "for ab1 in range(2):\n",
    "     for ab2 in range(2):\n",
    "          for ba1 in range(2):\n",
    "               for ba2 in range(2):\n",
    "                    if ab1 == 0 and ab2 == 0 and ba1 == 0 and ba2 == 0: continue\n",
    "                    # if ab == 0 and ac == 0 and da == 0: continue\n",
    "                    # if ab == 0 and bc == 0 and bd == 0: continue\n",
    "                    # if bc == 0 and ac == 0 and cd == 0: continue\n",
    "                    # if bd == 0 and cd == 0 and da == 0: continue\n",
    "                    df = []\n",
    "                    df.append(['Source','Target','Type'])\n",
    "                    if ab1 == 1: df.append(['A','B',1]);\n",
    "                    if ab2 == 1: df.append(['A','B',2]);\n",
    "                    if ba1 == 1: df.append(['B','A',1]);\n",
    "                    if ba2 == 1: df.append(['B','A',2]);\n",
    "                    # if ac == 1: df.append(['A','C',2]); df.append(['C','A',2])\n",
    "                    # if bd == 1: df.append(['B','D',2]); df.append(['D','B',2])\n",
    "                    topo_name = 'TS{}.topo'\n",
    "                    np.savetxt(topo_name.format(ind), df, delimiter = '\\t', fmt = '% s')\n",
    "                    ind+=1\n"
   ]
  },
  {
   "cell_type": "code",
   "execution_count": null,
   "metadata": {},
   "outputs": [],
   "source": []
  }
 ],
 "metadata": {
  "kernelspec": {
   "display_name": "Python 3",
   "language": "python",
   "name": "python3"
  },
  "language_info": {
   "codemirror_mode": {
    "name": "ipython",
    "version": 3
   },
   "file_extension": ".py",
   "mimetype": "text/x-python",
   "name": "python",
   "nbconvert_exporter": "python",
   "pygments_lexer": "ipython3",
   "version": "3.8.9"
  },
  "orig_nbformat": 4,
  "vscode": {
   "interpreter": {
    "hash": "5edc29c2ed010d6458d71a83433b383a96a8cbd3efe8531bc90c4b8a5b8bcec9"
   }
  }
 },
 "nbformat": 4,
 "nbformat_minor": 2
}
