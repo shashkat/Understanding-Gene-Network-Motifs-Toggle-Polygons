{
 "cells": [
  {
   "cell_type": "code",
   "execution_count": 2,
   "metadata": {},
   "outputs": [
    {
     "name": "stdout",
     "output_type": "stream",
     "text": [
      "Defaulting to user installation because normal site-packages is not writeable\n",
      "Collecting sympy\n",
      "  Using cached sympy-1.10.1-py3-none-any.whl (6.4 MB)\n",
      "Collecting mpmath>=0.19\n",
      "  Using cached mpmath-1.2.1-py3-none-any.whl (532 kB)\n",
      "Installing collected packages: mpmath, sympy\n",
      "\u001b[33m  WARNING: The script isympy is installed in '/Users/shashankkatiyar/Library/Python/3.8/bin' which is not on PATH.\n",
      "  Consider adding this directory to PATH or, if you prefer to suppress this warning, use --no-warn-script-location.\u001b[0m\u001b[33m\n",
      "\u001b[0mSuccessfully installed mpmath-1.2.1 sympy-1.10.1\n",
      "Note: you may need to restart the kernel to use updated packages.\n"
     ]
    }
   ],
   "source": [
    "%pip install sympy"
   ]
  },
  {
   "cell_type": "code",
   "execution_count": 2,
   "metadata": {},
   "outputs": [],
   "source": [
    "from sympy import symbols, Eq\n",
    "from sympy import * \n",
    "\n",
    "import pandas as pd\n",
    "import matplotlib.pyplot as plt\n",
    "import math\n",
    "import numpy as np"
   ]
  },
  {
   "cell_type": "code",
   "execution_count": 17,
   "metadata": {},
   "outputs": [],
   "source": [
    "files = 170\n",
    "\n",
    "number_of_nodes = []\n",
    "\n",
    "cfg_name = 'TS{}.cfg'\n",
    "cfg_list = []\n",
    "col_list_full = []\n",
    "for i in range(0,files):\n",
    "     cfg_list.append(open(cfg_name.format(i)))\n",
    "     lines = cfg_list[i].readlines()\n",
    "     number_of_nodes.append(int(lines[30][14]+lines[30][15]))\n",
    "     col_list_single = []\n",
    "     for j in range(number_of_nodes[i]):\n",
    "          if j == 9: col_list_single.append(lines[31+j][3])\n",
    "          else: col_list_single.append(lines[31+j][2])\n",
    "     col_list_full.append(col_list_single)\n",
    "\n",
    "topo_name = 'TS{}.topo'\n",
    "topo_list = []\n",
    "for i in range(0,files):\n",
    "     # if i == 1 or i == 10 or i == 13 or i == 23 or i == 26: continue\n",
    "     topo_list.append(pd.read_csv(topo_name.format(i), sep = '\\t'))\n",
    "     topo_list[i]\n",
    "\n",
    "for j in range(len(topo_list)):\n",
    "\n",
    "     topo = topo_list[j]\n",
    "     nodes = [['A',0,0],['B',1,0],['C',2,0],['D',3,0],['E',4,0],['F',5,0],['G',6,0],['H',7,0],['I',8,0],['J',9,0]]\n",
    "     nodes = nodes[:number_of_nodes[j]]\n",
    "     node_to_index_dict = {'A':0,'B':1,'C':2,'D':3,'E':4,'F':5,'G':6,'H':7,'I':8,'J':9}\n",
    "\n",
    "     for i in range (len(topo)):\n",
    "          nodes[node_to_index_dict[topo['Source'][i]]][2] += 1\n",
    "          # nodes[node_to_index_dict[topo['Target'][i]]][2] += 1\n",
    "          nodes[node_to_index_dict[topo['Source'][i]]].append(node_to_index_dict[topo['Target'][i]])\n",
    "          # nodes[node_to_index_dict[topo['Target'][i]]].append(node_to_index_dict[topo['Source'][i]])\n",
    "\n",
    "     edges = 0\n",
    "     for node_info in nodes:\n",
    "          for conn in node_info[3:]:\n",
    "               edges += 1\n",
    "\n",
    "     n_of_nodes = len(nodes)\n",
    "     reactions = n_of_nodes*2  # gonna assume order of reactions- A production, B production... , A degradation, B degradation... etc.\n",
    "\n",
    "     # stoichiometric matrix\n",
    "     A = []\n",
    "     for row in range(n_of_nodes):\n",
    "          temp = []\n",
    "          for ele in range(reactions):\n",
    "               if (ele == row): temp.append(1)\n",
    "               elif (ele == row+n_of_nodes): temp.append(-1)\n",
    "               else: temp.append(0)\n",
    "          A.append(temp)\n",
    "     \n",
    "     # influence matrix\n",
    "     Z = []\n",
    "     for row in range(reactions):\n",
    "          temp = []\n",
    "          for ele in range(n_of_nodes):\n",
    "               temp.append(0)\n",
    "          Z.append(temp)\n",
    "     \n",
    "     z = [None]*(edges+n_of_nodes)\n",
    "     for i in range(edges+n_of_nodes):\n",
    "          z[i] = symbols('z'+str(i))\n",
    "     \n",
    "     ind = 0\n",
    "     for col in  range(n_of_nodes):\n",
    "          for row in range(reactions):\n",
    "               if (row>=n_of_nodes):\n",
    "                    if (col == row-n_of_nodes): \n",
    "                         Z[row][col] = z[ind]\n",
    "                         ind += 1\n",
    "          for conn in nodes[col][3:]:\n",
    "               Z[conn][col] = -z[ind]\n",
    "               ind += 1\n",
    "\n",
    "     A = Matrix(A)\n",
    "     Z = Matrix(Z)\n",
    "     A.shape\n",
    "     F = Matrix(A.nullspace()).rref()\n",
    "     F_rref = F[0].reshape(A.shape[0],A.shape[1])\n",
    "     M = A*Z\n",
    "     Mt = M\n",
    "     s = A.rank()\n",
    "     n = A.shape[0]\n",
    "     # F_rref,Mt,s,n\n",
    "\n",
    "     if s<n:\n",
    "          i = 1\n",
    "          # for i in range(A.shape[1]):\n",
    "          while i<= A.shape[1]:\n",
    "               j = 1\n",
    "               while j<n+1:\n",
    "                    if F_rref[(i-1)+(j-1)*n] != 0:\n",
    "                         # row replacement\n",
    "                         for k in range(Mt.shape[1]):\n",
    "                              if k<F_rref.shape[1]: Mt[(j-1)*Mt.shape[1]+k] = F_rref[(i-1)*F_rref.shape[1]+k]\n",
    "                              else: Mt[(j-1)*Mt.shape[1]+k] = 0\n",
    "                         j = n+1\n",
    "                    else:\n",
    "                         j = j+1\n",
    "          i+=1\n",
    "\n",
    "     det = Mt.det()\n",
    "     det = det.expand()\n",
    "     injective = 0\n",
    "     if det == 0: injective = 0\n",
    "     else:\n",
    "          all_pos = 1\n",
    "          all_neg = 1\n",
    "          for term in det.args:\n",
    "               if term.args[0] != 1 and term.args[0] != -1: all_neg = 0\n",
    "               elif term.args[0] > 0: all_neg = 0\n",
    "               else: all_pos = 0\n",
    "          if all_neg == 0 and all_pos == 0: injective = 0\n",
    "          else: injective = 1\n",
    "     if (injective == 1):\n",
    "          print (topo)\n",
    "          print (j)\n",
    "          print(det)"
   ]
  },
  {
   "cell_type": "code",
   "execution_count": 13,
   "metadata": {},
   "outputs": [
    {
     "data": {
      "text/plain": [
       "sympy.core.mul.Mul"
      ]
     },
     "execution_count": 13,
     "metadata": {},
     "output_type": "execute_result"
    }
   ],
   "source": [
    "type(det)"
   ]
  },
  {
   "cell_type": "code",
   "execution_count": 4,
   "metadata": {},
   "outputs": [],
   "source": [
    "pd.set_option('display.max_rows',1000)"
   ]
  },
  {
   "cell_type": "code",
   "execution_count": 15,
   "metadata": {},
   "outputs": [
    {
     "data": {
      "text/latex": [
       "$\\displaystyle - z_{0} z_{11} z_{12} z_{16} z_{17} z_{20} z_{5} z_{7} + z_{0} z_{11} z_{12} z_{16} z_{17} z_{21} z_{6} z_{7} + z_{0} z_{11} z_{13} z_{16} z_{19} z_{20} z_{5} z_{7} - z_{0} z_{11} z_{13} z_{16} z_{19} z_{21} z_{6} z_{7} + z_{0} z_{12} z_{14} z_{17} z_{20} z_{5} z_{7} z_{9} - z_{0} z_{12} z_{14} z_{17} z_{21} z_{6} z_{7} z_{9} - z_{0} z_{13} z_{14} z_{19} z_{20} z_{5} z_{7} z_{9} + z_{0} z_{13} z_{14} z_{19} z_{21} z_{6} z_{7} z_{9} + z_{1} z_{10} z_{12} z_{16} z_{17} z_{20} z_{5} z_{7} - z_{1} z_{10} z_{12} z_{16} z_{17} z_{21} z_{6} z_{7} - z_{1} z_{10} z_{13} z_{16} z_{19} z_{20} z_{5} z_{7} + z_{1} z_{10} z_{13} z_{16} z_{19} z_{21} z_{6} z_{7} - z_{1} z_{12} z_{15} z_{17} z_{20} z_{5} z_{7} z_{9} + z_{1} z_{12} z_{15} z_{17} z_{21} z_{6} z_{7} z_{9} + z_{1} z_{13} z_{15} z_{19} z_{20} z_{5} z_{7} z_{9} - z_{1} z_{13} z_{15} z_{19} z_{21} z_{6} z_{7} z_{9} - z_{10} z_{12} z_{14} z_{17} z_{20} z_{4} z_{5} z_{7} + z_{10} z_{12} z_{14} z_{17} z_{21} z_{4} z_{6} z_{7} + z_{10} z_{13} z_{14} z_{19} z_{20} z_{4} z_{5} z_{7} - z_{10} z_{13} z_{14} z_{19} z_{21} z_{4} z_{6} z_{7} + z_{11} z_{12} z_{15} z_{17} z_{20} z_{4} z_{5} z_{7} - z_{11} z_{12} z_{15} z_{17} z_{21} z_{4} z_{6} z_{7} + z_{11} z_{12} z_{16} z_{17} z_{20} z_{3} z_{5} z_{8} - z_{11} z_{12} z_{16} z_{17} z_{21} z_{3} z_{6} z_{8} + z_{11} z_{12} z_{16} z_{18} z_{2} z_{20} z_{5} z_{7} - z_{11} z_{12} z_{16} z_{18} z_{2} z_{21} z_{6} z_{7} - z_{11} z_{13} z_{15} z_{19} z_{20} z_{4} z_{5} z_{7} + z_{11} z_{13} z_{15} z_{19} z_{21} z_{4} z_{6} z_{7} - z_{11} z_{13} z_{16} z_{19} z_{20} z_{3} z_{5} z_{8} + z_{11} z_{13} z_{16} z_{19} z_{21} z_{3} z_{6} z_{8} - z_{12} z_{14} z_{17} z_{20} z_{3} z_{5} z_{8} z_{9} + z_{12} z_{14} z_{17} z_{21} z_{3} z_{6} z_{8} z_{9} - z_{12} z_{14} z_{18} z_{2} z_{20} z_{5} z_{7} z_{9} + z_{12} z_{14} z_{18} z_{2} z_{21} z_{6} z_{7} z_{9} + z_{13} z_{14} z_{19} z_{20} z_{3} z_{5} z_{8} z_{9} - z_{13} z_{14} z_{19} z_{21} z_{3} z_{6} z_{8} z_{9}$"
      ],
      "text/plain": [
       "-z0*z11*z12*z16*z17*z20*z5*z7 + z0*z11*z12*z16*z17*z21*z6*z7 + z0*z11*z13*z16*z19*z20*z5*z7 - z0*z11*z13*z16*z19*z21*z6*z7 + z0*z12*z14*z17*z20*z5*z7*z9 - z0*z12*z14*z17*z21*z6*z7*z9 - z0*z13*z14*z19*z20*z5*z7*z9 + z0*z13*z14*z19*z21*z6*z7*z9 + z1*z10*z12*z16*z17*z20*z5*z7 - z1*z10*z12*z16*z17*z21*z6*z7 - z1*z10*z13*z16*z19*z20*z5*z7 + z1*z10*z13*z16*z19*z21*z6*z7 - z1*z12*z15*z17*z20*z5*z7*z9 + z1*z12*z15*z17*z21*z6*z7*z9 + z1*z13*z15*z19*z20*z5*z7*z9 - z1*z13*z15*z19*z21*z6*z7*z9 - z10*z12*z14*z17*z20*z4*z5*z7 + z10*z12*z14*z17*z21*z4*z6*z7 + z10*z13*z14*z19*z20*z4*z5*z7 - z10*z13*z14*z19*z21*z4*z6*z7 + z11*z12*z15*z17*z20*z4*z5*z7 - z11*z12*z15*z17*z21*z4*z6*z7 + z11*z12*z16*z17*z20*z3*z5*z8 - z11*z12*z16*z17*z21*z3*z6*z8 + z11*z12*z16*z18*z2*z20*z5*z7 - z11*z12*z16*z18*z2*z21*z6*z7 - z11*z13*z15*z19*z20*z4*z5*z7 + z11*z13*z15*z19*z21*z4*z6*z7 - z11*z13*z16*z19*z20*z3*z5*z8 + z11*z13*z16*z19*z21*z3*z6*z8 - z12*z14*z17*z20*z3*z5*z8*z9 + z12*z14*z17*z21*z3*z6*z8*z9 - z12*z14*z18*z2*z20*z5*z7*z9 + z12*z14*z18*z2*z21*z6*z7*z9 + z13*z14*z19*z20*z3*z5*z8*z9 - z13*z14*z19*z21*z3*z6*z8*z9"
      ]
     },
     "execution_count": 15,
     "metadata": {},
     "output_type": "execute_result"
    }
   ],
   "source": [
    "det.expand()"
   ]
  },
  {
   "cell_type": "code",
   "execution_count": null,
   "metadata": {},
   "outputs": [],
   "source": [
    "A.shape\n",
    "F = Matrix(A.nullspace()).rref()\n",
    "F_rref = F[0].reshape(A.shape[0],A.shape[1])\n",
    "M = A*Z\n",
    "Mt = M\n",
    "s = A.rank()\n",
    "n = A.shape[0]\n",
    "F_rref,Mt,s,n\n",
    "\n",
    "if s<n:\n",
    "    i = 1\n",
    "    # for i in range(A.shape[1]):\n",
    "    while i<= A.shape[1]:\n",
    "        j = 1\n",
    "        while j<n+1:\n",
    "            if F_rref[(i-1)+(j-1)*n] != 0:\n",
    "                # row replacement\n",
    "                for k in range(Mt.shape[1]):\n",
    "                    if k<F_rref.shape[1]: Mt[(j-1)*Mt.shape[1]+k] = F_rref[(i-1)*F_rref.shape[1]+k]\n",
    "                    else: Mt[(j-1)*Mt.shape[1]+k] = 0\n",
    "                j = n+1\n",
    "            else:\n",
    "                j = j+1\n",
    "    i+=1\n",
    "\n",
    "det = Mt.det()\n",
    "\n",
    "injective = 0\n",
    "if det == 0: injective = 0\n",
    "else:\n",
    "    all_pos = 1\n",
    "    all_neg = 1\n",
    "    for term in det.args:\n",
    "        if term.args[0] > 0: all_neg = 0\n",
    "        else: all_pos = 0\n",
    "    if all_neg == 0 and all_pos == 0: injective = 0\n",
    "    else: injective = 1"
   ]
  },
  {
   "cell_type": "code",
   "execution_count": null,
   "metadata": {},
   "outputs": [],
   "source": [
    "A.shape\n",
    "F = Matrix(A.nullspace()).rref()\n",
    "F_rref = F[0].reshape(A.shape[0],A.shape[1])\n",
    "M = A*Z\n",
    "Mt = M\n",
    "s = A.rank()\n",
    "n = A.shape[0]\n",
    "F_rref,Mt,s,n\n",
    "\n",
    "if s<n:\n",
    "  i = 1\n",
    "  # for i in range(A.shape[1]):\n",
    "  while i<= A.shape[1]:\n",
    "    j = 1\n",
    "    while j<n+1:\n",
    "      if F_rref[(i-1)+(j-1)*n] != 0:\n",
    "        # row replacement\n",
    "        for k in range(Mt.shape[1]):   \n",
    "          if k<F_rref.shape[1]: Mt[(j-1)*Mt.shape[1]+k] = F_rref[(i-1)*F_rref.shape[1]+k]\n",
    "          else: Mt[(j-1)*Mt.shape[1]+k] = 0\n",
    "        j = n+1\n",
    "      else:\n",
    "        j = j+1\n",
    "  i+=1\n",
    "\n",
    "det = Mt.det()\n",
    "\n",
    "injective = 0\n",
    "if det == 0: injective = 0\n",
    "else:\n",
    "  all_pos = 1\n",
    "  all_neg = 1\n",
    "  for term in det.args:\n",
    "    if term.args[0] > 0: all_neg = 0\n",
    "    else: all_pos = 0\n",
    "  if all_neg == 0 and all_pos == 0: injective = 0\n",
    "  else: injective = 1"
   ]
  },
  {
   "cell_type": "code",
   "execution_count": 30,
   "metadata": {},
   "outputs": [],
   "source": [
    "# ind = 0\n",
    "# for col in  range(n_of_nodes):\n",
    "#      for row in range(reactions):\n",
    "#           if (row>=n_of_nodes):\n",
    "#                if (col == row-n_of_nodes): \n",
    "#                     Z[row][col] = z[ind]\n",
    "#                     ind += 1\n",
    "#      for conn in nodes[col][3:]:\n",
    "#           Z[conn][col] = -z[ind]\n",
    "#           ind += 1"
   ]
  },
  {
   "cell_type": "code",
   "execution_count": 7,
   "metadata": {},
   "outputs": [],
   "source": [
    "\n",
    "z = [None]*6\n",
    "z[0] = symbols('z0')\n",
    "z[1] = symbols('z1')\n",
    "z[2] = symbols('z2')\n",
    "z[3] = symbols('z3')\n",
    "z[4] = symbols('z4')\n",
    "z[5] = symbols('z5')\n",
    "\n",
    "# stoichiometric matrix\n",
    "A = Matrix([[-1,1,0,0,0,0],\n",
    "     [0,0,-1,1,0,0],\n",
    "     [0,0,0,0,-1,1]])\n",
    "\n",
    "# influence matrix\n",
    "Z = Matrix([[z[0],0,0],\n",
    "     [0,0,-z[1]],\n",
    "     [0,z[2],0],\n",
    "     [-z[3],0,0],\n",
    "     [0,0,z[4]],\n",
    "     [0,-z[5],0]])"
   ]
  },
  {
   "cell_type": "code",
   "execution_count": 3,
   "metadata": {},
   "outputs": [
    {
     "data": {
      "text/plain": [
       "(Matrix([\n",
       " [1, 0, 0, 0, 0, 0],\n",
       " [0, 0, 0, 0, 0, 0],\n",
       " [0, 0, 0, 0, 0, 0]]),\n",
       " Matrix([\n",
       " [-z0,   0, -z1],\n",
       " [-z3, -z2,   0],\n",
       " [  0, -z5, -z4]]),\n",
       " 3,\n",
       " 3)"
      ]
     },
     "execution_count": 3,
     "metadata": {},
     "output_type": "execute_result"
    }
   ],
   "source": [
    "A.shape\n",
    "F = Matrix(A.nullspace()).rref()\n",
    "F_rref = F[0].reshape(A.shape[0],A.shape[1])\n",
    "M = A*Z\n",
    "Mt = M\n",
    "s = A.rank()\n",
    "n = A.shape[0]\n",
    "F_rref,Mt,s,n"
   ]
  },
  {
   "cell_type": "code",
   "execution_count": 4,
   "metadata": {},
   "outputs": [],
   "source": [
    "if s<n:\n",
    "  i = 1\n",
    "  # for i in range(A.shape[1]):\n",
    "  while i<= A.shape[1]:\n",
    "    j = 1\n",
    "    while j<n+1:\n",
    "      if F_rref[(i-1)+(j-1)*n] != 0:\n",
    "        # row replacement\n",
    "        for k in range(Mt.shape[1]):   \n",
    "          if k<F_rref.shape[1]: Mt[(j-1)*Mt.shape[1]+k] = F_rref[(i-1)*F_rref.shape[1]+k]\n",
    "          else: Mt[(j-1)*Mt.shape[1]+k] = 0\n",
    "        j = n+1\n",
    "      else:\n",
    "        j = j+1\n",
    "  i+=1\n",
    "\n"
   ]
  },
  {
   "cell_type": "code",
   "execution_count": 7,
   "metadata": {},
   "outputs": [
    {
     "name": "stdout",
     "output_type": "stream",
     "text": [
      "Matrix([[-z0, 0, -z1], [-z3, -z2, 0], [0, -z5, -z4]])\n"
     ]
    }
   ],
   "source": [
    "det = Mt.det()\n",
    "print(Mt)"
   ]
  },
  {
   "cell_type": "code",
   "execution_count": 8,
   "metadata": {},
   "outputs": [],
   "source": [
    "injective = 0\n",
    "if det == 0: injective = 0\n",
    "else:\n",
    "  all_pos = 1\n",
    "  all_neg = 1\n",
    "  for term in det.args:\n",
    "    if term.args[0] > 0: all_neg = 0\n",
    "    else: all_pos = 0\n",
    "  if all_neg == 0 and all_pos == 0: injective = 0\n",
    "  else: injective = 1"
   ]
  },
  {
   "cell_type": "code",
   "execution_count": 9,
   "metadata": {},
   "outputs": [
    {
     "data": {
      "text/latex": [
       "$\\displaystyle -1$"
      ],
      "text/plain": [
       "-1"
      ]
     },
     "execution_count": 9,
     "metadata": {},
     "output_type": "execute_result"
    }
   ],
   "source": [
    "A[0]"
   ]
  },
  {
   "cell_type": "code",
   "execution_count": null,
   "metadata": {},
   "outputs": [],
   "source": []
  }
 ],
 "metadata": {
  "kernelspec": {
   "display_name": "Python 3",
   "language": "python",
   "name": "python3"
  },
  "language_info": {
   "codemirror_mode": {
    "name": "ipython",
    "version": 3
   },
   "file_extension": ".py",
   "mimetype": "text/x-python",
   "name": "python",
   "nbconvert_exporter": "python",
   "pygments_lexer": "ipython3",
   "version": "3.8.9"
  },
  "orig_nbformat": 4,
  "vscode": {
   "interpreter": {
    "hash": "5edc29c2ed010d6458d71a83433b383a96a8cbd3efe8531bc90c4b8a5b8bcec9"
   }
  }
 },
 "nbformat": 4,
 "nbformat_minor": 2
}
