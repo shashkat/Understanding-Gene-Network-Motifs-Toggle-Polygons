{
 "cells": [
  {
   "cell_type": "code",
   "execution_count": 5,
   "metadata": {},
   "outputs": [],
   "source": [
    "iter = 100 # no of topo files to generate\n",
    "import pandas as pd\n",
    "import random\n",
    "import numpy as np\n",
    "\n",
    "ind = 0\n",
    "for j in range(iter):\n",
    "     #         0         1         2         3        4       5       6         7         8       9      10        11        12        13        14\n",
    "     edges = [['AB',1],['BC',1],['CD',1],['DE',1],['EF',1],['FA',1],['AC',0],['BD',0],['CE',0],['DF',0],['EA',0],['FB',0],['AD',0],['BE',0],['CF',0]]     \n",
    "\n",
    "     edges_index = [0,1,2,3,4,5,6,7,8,9,10,11,12,13,14]\n",
    "     m = random.choice([2,3,3,3,3,4,4,4,4,4,4,4,4,4,4,4,4])\n",
    "     for i in range (m):\n",
    "\n",
    "          n = random.choice(edges_index)\n",
    "          edges_index.remove(n)\n",
    "          if edges[n][1] == 0: edges[n][1] = 1\n",
    "          else : edges[n][1] = 0\n",
    "\n",
    "     # ensuring every node has atleast one edge connected\n",
    "     if edges[0][1] == 0 and edges[5][1] == 0 and edges[6][1] == 0 and edges[10][1] == 0 and edges[12][1] == 0: continue\n",
    "     if edges[0][1] == 0 and edges[1][1] == 0 and edges[7][1] == 0 and edges[11][1] == 0 and edges[13][1] == 0: continue\n",
    "     if edges[1][1] == 0 and edges[2][1] == 0 and edges[6][1] == 0 and edges[8][1] == 0 and edges[14][1] == 0: continue\n",
    "     if edges[2][1] == 0 and edges[3][1] == 0 and edges[7][1] == 0 and edges[9][1] == 0 and edges[12][1] == 0: continue\n",
    "     if edges[3][1] == 0 and edges[4][1] == 0 and edges[8][1] == 0 and edges[10][1] == 0 and edges[13][1] == 0: continue\n",
    "     if edges[4][1] == 0 and edges[5][1] == 0 and edges[9][1] == 0 and edges[11][1] == 0 and edges[14][1] == 0: continue\n",
    "\n",
    "     # making topo file\n",
    "     \n",
    "     df = []\n",
    "     df.append(['Source','Target','Type'])\n",
    "     if edges[0][1] == 1: df.append(['A','B',2]); df.append(['B','A',2])\n",
    "     if edges[1][1] == 1: df.append(['B','C',2]); df.append(['C','B',2])\n",
    "     if edges[2][1] == 1: df.append(['C','D',2]); df.append(['D','C',2])\n",
    "     if edges[3][1] == 1: df.append(['D','E',2]); df.append(['E','D',2])\n",
    "     if edges[4][1] == 1: df.append(['E','F',2]); df.append(['F','E',2])\n",
    "     if edges[5][1] == 1: df.append(['F','A',2]); df.append(['A','F',2])\n",
    "     if edges[6][1] == 1: df.append(['A','C',2]); df.append(['C','A',2])\n",
    "     if edges[7][1] == 1: df.append(['B','D',2]); df.append(['D','B',2])\n",
    "     if edges[8][1] == 1: df.append(['C','E',2]); df.append(['E','C',2])\n",
    "     if edges[9][1] == 1: df.append(['D','F',2]); df.append(['F','D',2])\n",
    "     if edges[10][1] == 1: df.append(['E','A',2]); df.append(['A','E',2])\n",
    "     if edges[11][1] == 1: df.append(['F','B',2]); df.append(['B','F',2])\n",
    "     if edges[12][1] == 1: df.append(['A','D',2]); df.append(['D','A',2])\n",
    "     if edges[13][1] == 1: df.append(['B','E',2]); df.append(['E','B',2])\n",
    "     if edges[14][1] == 1: df.append(['C','F',2]); df.append(['F','C',2])\n",
    "     \n",
    "     topo_name = 'TS{}.topo'\n",
    "     np.savetxt(topo_name.format(ind), df, delimiter = '\\t', fmt = '% s')\n",
    "     ind+=1"
   ]
  }
 ],
 "metadata": {
  "interpreter": {
   "hash": "5edc29c2ed010d6458d71a83433b383a96a8cbd3efe8531bc90c4b8a5b8bcec9"
  },
  "kernelspec": {
   "display_name": "Python 3",
   "language": "python",
   "name": "python3"
  },
  "language_info": {
   "codemirror_mode": {
    "name": "ipython",
    "version": 3
   },
   "file_extension": ".py",
   "mimetype": "text/x-python",
   "name": "python",
   "nbconvert_exporter": "python",
   "pygments_lexer": "ipython3",
   "version": "3.8.9"
  },
  "orig_nbformat": 4
 },
 "nbformat": 4,
 "nbformat_minor": 2
}
