{
 "cells": [
  {
   "cell_type": "code",
   "execution_count": 1,
   "metadata": {},
   "outputs": [],
   "source": [
    "\n",
    "import pandas as pd\n",
    "import random\n",
    "import numpy as np\n",
    "import matplotlib.pyplot as plt\n"
   ]
  },
  {
   "cell_type": "code",
   "execution_count": 2,
   "metadata": {},
   "outputs": [],
   "source": [
    "def add_binary (high_low_list,length):\n",
    "     if high_low_list[length-1] == 0: \n",
    "          high_low_list[length-1] = 1\n",
    "          return high_low_list\n",
    "     else: \n",
    "          high_low_list[length-1] = 0\n",
    "          return add_binary(high_low_list,length-1)"
   ]
  },
  {
   "cell_type": "code",
   "execution_count": 3,
   "metadata": {},
   "outputs": [],
   "source": [
    "def make_output (high_low_list, df_out):\n",
    "     df_out.append(list(high_low_list))\n",
    "     number_of_ones = 0\n",
    "     for i in range(len(high_low_list)):\n",
    "          if high_low_list[i] == 1: number_of_ones += 1\n",
    "     if number_of_ones == len(high_low_list): return df_out\n",
    "\n",
    "     length = len(high_low_list)\n",
    "     high_low_list = add_binary(high_low_list,length)\n",
    "\n",
    "     return make_output(high_low_list, df_out)"
   ]
  },
  {
   "cell_type": "code",
   "execution_count": 159,
   "metadata": {},
   "outputs": [
    {
     "data": {
      "text/plain": [
       "array([[1.00000017, 0.90024606],\n",
       "       [1.00000081, 0.99781069],\n",
       "       [0.99999982, 0.99982231],\n",
       "       ...,\n",
       "       [1.00000002, 0.96914651],\n",
       "       [1.0000005 , 0.0250734 ],\n",
       "       [0.99999981, 0.03827442]])"
      ]
     },
     "execution_count": 159,
     "metadata": {},
     "output_type": "execute_result"
    }
   ],
   "source": [
    "df2"
   ]
  },
  {
   "cell_type": "code",
   "execution_count": 88,
   "metadata": {},
   "outputs": [
    {
     "data": {
      "text/plain": [
       "array([1.52886489, 2.49853082])"
      ]
     },
     "execution_count": 88,
     "metadata": {},
     "output_type": "execute_result"
    }
   ],
   "source": [
    "np.std(df2, axis = 0)"
   ]
  },
  {
   "cell_type": "code",
   "execution_count": 34,
   "metadata": {},
   "outputs": [
    {
     "name": "stdout",
     "output_type": "stream",
     "text": [
      "   A  B  freq_total  nodes  edges\n",
      "1  0  0           0      2      1\n",
      "2  0  1           0      2      1\n",
      "3  1  0           0      2      1\n",
      "4  1  1       10000      2      1\n",
      "  Source Target  Type\n",
      "0      B      A     2\n",
      "   A  B  freq_total  nodes  edges\n",
      "1  0  0           0      2      1\n",
      "2  0  1           0      2      1\n",
      "3  1  0           0      2      1\n",
      "4  1  1       10000      2      1\n",
      "  Source Target  Type\n",
      "0      B      A     1\n",
      "   A  B  freq_total  nodes  edges\n",
      "1  0  0           0      2      2\n",
      "2  0  1           5      2      2\n",
      "3  1  0           0      2      2\n",
      "4  1  1        9994      2      2\n",
      "  Source Target  Type\n",
      "0      B      A     1\n",
      "1      B      A     2\n"
     ]
    }
   ],
   "source": [
    "files = 3 # number of solution files to process\n",
    "# dataset = pd.read_csv('dataset_multinode.csv')\n",
    "dataset = pd.DataFrame()\n",
    "\n",
    "number_of_nodes = []\n",
    "\n",
    "cfg_name = 'TS{}.cfg'\n",
    "cfg_list = []\n",
    "col_list_full = []\n",
    "for i in range(0,files):\n",
    "     cfg_list.append(open(cfg_name.format(i)))\n",
    "     lines = cfg_list[i].readlines()\n",
    "     number_of_nodes.append(int(lines[30][14]+lines[30][15]))\n",
    "     col_list_single = []\n",
    "     for j in range(number_of_nodes[i]):\n",
    "          if j == 9: col_list_single.append(lines[31+j][3])\n",
    "          else: col_list_single.append(lines[31+j][2])\n",
    "     col_list_full.append(col_list_single)\n",
    "\n",
    "topo_name = 'TS{}.topo'\n",
    "topo_list = []\n",
    "for i in range(0,files):\n",
    "     # if i == 1 or i == 10 or i == 13 or i == 23 or i == 26: continue\n",
    "     topo_list.append(pd.read_csv(topo_name.format(i), sep = '\\t'))\n",
    "     topo_list[i]\n",
    "\n",
    "df_name = 'TS{}_solution.dat'\n",
    "df_list = []\n",
    "\n",
    "for i in range(0,files):\n",
    "\n",
    "     # if i == 1 or i == 10 or i == 13 or i == 23 or i == 26: continue \n",
    "     if number_of_nodes[i] == 2: df_list.append(pd.read_csv(df_name.format(i), sep=\"\\t\", names=[\"serial\",\"states\",\"1\",\"2\"]))\n",
    "     if number_of_nodes[i] == 3: df_list.append(pd.read_csv(df_name.format(i), sep=\"\\t\", names=[\"serial\",\"states\",\"1\",\"2\",\"3\"]))\n",
    "     if number_of_nodes[i] == 4: df_list.append(pd.read_csv(df_name.format(i), sep=\"\\t\", names=[\"serial\",\"states\",\"1\",\"2\",\"3\",\"4\"]))\n",
    "     if number_of_nodes[i] == 5: df_list.append(pd.read_csv(df_name.format(i), sep=\"\\t\", names=[\"serial\",\"states\",\"1\",\"2\",\"3\",\"4\",\"5\"]))\n",
    "     if number_of_nodes[i] == 6: df_list.append(pd.read_csv(df_name.format(i), sep=\"\\t\", names=[\"serial\",\"states\",\"1\",\"2\",\"3\",\"4\",\"5\",\"6\"]))\n",
    "     if number_of_nodes[i] == 7: df_list.append(pd.read_csv(df_name.format(i), sep=\"\\t\", names=[\"serial\",\"states\",\"1\",\"2\",\"3\",\"4\",\"5\",\"6\",\"7\"]))\n",
    "     if number_of_nodes[i] == 8: df_list.append(pd.read_csv(df_name.format(i), sep=\"\\t\", names=[\"serial\",\"states\",\"1\",\"2\",\"3\",\"4\",\"5\",\"6\",\"7\",\"8\"]))\n",
    "     if number_of_nodes[i] == 9: df_list.append(pd.read_csv(df_name.format(i), sep=\"\\t\", names=[\"serial\",\"states\",\"1\",\"2\",\"3\",\"4\",\"5\",\"6\",\"7\",\"8\",\"9\"]))\n",
    "     if number_of_nodes[i] == 10: df_list.append(pd.read_csv(df_name.format(i), sep=\"\\t\", names=[\"serial\",\"states\",\"1\",\"2\",\"3\",\"4\",\"5\",\"6\",\"7\",\"8\",\"9\",\"10\"]))\n",
    "\n",
    "par_name = 'TS{}_parameters.dat'\n",
    "par_list = []\n",
    "for i in range(0,files):\n",
    "     # if i == 1 or i == 10 or i == 13 or i == 23 or i == 26: continue\n",
    "     par_list.append(pd.read_csv(par_name.format(i), sep=\"\\t\", header=None))\n",
    "\n",
    "for j in range(len(topo_list)):\n",
    "     \n",
    "     # col_list = []\n",
    "     # cfg = cfg_list[j]\n",
    "     # lines = cfg.readlines()\n",
    "     # for i in range(number_of_nodes[j]):\n",
    "     #      col_list.append(lines[31+i][2])\n",
    "     #      # lines[31][2]; col2 = lines[32][2]; col3 = lines[33][2]; col4 = lines[34][2]; col5 = lines[35][2]; col6 = lines[36][2]\n",
    "     col_list = col_list_full[j]\n",
    "\n",
    "     topo = topo_list[j]\n",
    "     df1 = df_list[j]\n",
    "     par = par_list[j]\n",
    "     par_selective_columns = []\n",
    "     for i in range(2*number_of_nodes[j]+1):\n",
    "          par_selective_columns.append(i+1)\n",
    "\n",
    "     par = par[par_selective_columns]\n",
    "     par = par.rename(columns = {1: 'states'})\n",
    "     for column in range(number_of_nodes[j]):\n",
    "          par = par.rename(columns = {column+2: col_list[column]+'p'})\n",
    "     for column in range(number_of_nodes[j]):\n",
    "          par = par.rename(columns = {number_of_nodes[j]+column+2: col_list[column]+'d'})\n",
    "     temp_states = df1['states']\n",
    "\n",
    "     nodes = [['A',0,0],['B',1,0],['C',2,0],['D',3,0],['E',4,0],['F',5,0],['G',6,0],['H',7,0],['I',8,0],['J',9,0]]\n",
    "     nodes = nodes[:number_of_nodes[j]]\n",
    "     node_to_index_dict = {'A':0,'B':1,'C':2,'D':3,'E':4,'F':5,'G':6,'H':7,'I':8,'J':9}\n",
    "\n",
    "     for i in range (len(topo)):\n",
    "          nodes[node_to_index_dict[topo['Source'][i]]][2] += 1\n",
    "          # nodes[node_to_index_dict[topo['Target'][i]]][2] += 1\n",
    "          nodes[node_to_index_dict[topo['Source'][i]]].append(node_to_index_dict[topo['Target'][i]])\n",
    "          nodes[node_to_index_dict[topo['Source'][i]]].append(topo['Type'][i])\n",
    "          # nodes[node_to_index_dict[topo['Target'][i]]].append(node_to_index_dict[topo['Source'][i]])\n",
    "\n",
    "     # production/degradation normalization and z normalization of the sultion file\n",
    "     df2 = np.array(df1.drop(['serial','states'], axis = 'columns'))\n",
    "     df2 = 2**df2\n",
    "\n",
    "     # dfp = []\n",
    "     # ddf = []\n",
    "     # for i in range(len(df1)):\n",
    "     #      temp1 = []\n",
    "     #      for col in col_list:\n",
    "     #           temp1.append(par[col+'p'][df1.serial[i]-1])\n",
    "     #      dfp.append(temp1)\n",
    "\n",
    "     #      temp2 = []\n",
    "     #      for col in col_list:\n",
    "     #           temp2.append(par[col+'d'][df1.serial[i]-1])\n",
    "     #      ddf.append(temp2)\n",
    "\n",
    "     # dfp = np.array(dfp)\n",
    "     # ddf = np.array(ddf)\n",
    "     # dfpbyd = dfp/ddf\n",
    "\n",
    "     # df2 = df2/dfpbyd\n",
    "     # # df2 = np.log2(df2)\n",
    "     # df3 = np.sum(df2, axis = 0)\n",
    "     # df4 = np.std(df2, axis = 0)\n",
    "     # df3 = df3/(len(df2))\n",
    "     # # df2 = (df2-0.5)\n",
    "     # df2 = (df2-df3)/df4\n",
    "     \n",
    "     df1 = pd.DataFrame(df2, columns=col_list)\n",
    "\n",
    "     df_out = []\n",
    "     node_names = []\n",
    "     for i in range(len(nodes)):\n",
    "          node_names.append(nodes[i][0])\n",
    "     df_out.append(node_names)\n",
    "     freq_total = [0]*((2**len(nodes))+1)\n",
    "     high_low_list = []\n",
    "     for i in range(len(nodes)):\n",
    "          high_low_list.append(0)\n",
    "     df_out = make_output(high_low_list,df_out)\n",
    "\n",
    "     for row in range(len(df_out)):\n",
    "          if row == 0: continue\n",
    "          for state in range(len(df1)): \n",
    "               # for node in range(len(node_names)):\n",
    "               node = 0\n",
    "               while node < len(node_names):\n",
    "                    if df_out[row][node] == 1:\n",
    "                         if df1[node_names[node]][state]>0.01: pass\n",
    "                         else: \n",
    "                              node = len(node_names)\n",
    "                              continue\n",
    "                    if df_out[row][node] == 0:\n",
    "                         if df1[node_names[node]][state]<0.01: pass\n",
    "                         else: \n",
    "                              node = len(node_names)\n",
    "                              continue\n",
    "                    if node == len(node_names)-1: freq_total[row] += 1\n",
    "                    node+=1\n",
    "                    \n",
    "     df_out = pd.DataFrame(df_out, columns = df_out[0])\n",
    "     freq_total = np.array(freq_total)\n",
    "     freq_total = freq_total/len(df1)\n",
    "     freq_total = freq_total*10000\n",
    "     freq_total = freq_total.astype('int')\n",
    "     df_out['freq_total'] = freq_total\n",
    "     df_out.drop(0, axis = 0, inplace = True)\n",
    "\n",
    "     # pedge_arr00 = []\n",
    "     # for hl_state in range (len(df_out)):\n",
    "     #      pedge00 = 0\n",
    "     #      for node_info in nodes:\n",
    "     #           if df_out[node_info[0]][hl_state+1] == 0:\n",
    "     #                for conn in node_info[3:]:\n",
    "     #                     if df_out[node_names[conn]][hl_state+1] == 0: pedge00 += 1\n",
    "     #      pedge_arr00.append(pedge00)\n",
    "     \n",
    "     # pedge_arr00 = np.array(pedge_arr00)\n",
    "     # pedge_arr00 = pedge_arr00/2\n",
    "     \n",
    "     # pedge_arr11 = []\n",
    "     # for hl_state in range (len(df_out)):\n",
    "     #      pedge11 = 0\n",
    "     #      for node_info in nodes:\n",
    "     #           if df_out[node_info[0]][hl_state+1] == 1:\n",
    "     #                for conn in node_info[3:]:\n",
    "     #                     if df_out[node_names[conn]][hl_state+1] == 1: pedge11 += 1\n",
    "     #      pedge_arr11.append(pedge11)\n",
    "     \n",
    "     # pedge_arr11 = np.array(pedge_arr11)\n",
    "     # pedge_arr11 = pedge_arr11/2\n",
    "     \n",
    "     # pnode_arr = []\n",
    "     # for hl_state in range (len(df_out)):\n",
    "     #      pnode = 0\n",
    "     #      for node_info in nodes:\n",
    "     #           if df_out[node_info[0]][hl_state+1] == 0:\n",
    "     #                lows = 0\n",
    "     #                for conn in node_info[3:]:\n",
    "     #                     if df_out[node_names[conn]][hl_state+1] == 0: lows += 1\n",
    "     #                if lows == len(node_info[3:]): pnode += 1\n",
    "     #      pnode_arr.append(pnode)\n",
    "\n",
    "     edges = 0\n",
    "     for node_info in nodes:\n",
    "          edges += node_info[2]\n",
    "\n",
    "     df_out['nodes'] = number_of_nodes[j]\n",
    "     df_out['edges'] = edges\n",
    "     # df_out['pedge00'] = pedge_arr00\n",
    "     # df_out['pedge11'] = pedge_arr11\n",
    "     # df_out['pnode'] = pnode_arr\n",
    "     # df_out['total_states'] = 2**number_of_nodes[j]\n",
    "     # df_out['total_states'] = len(df1)\n",
    "\n",
    "     # df_out = df_out.drop(node_names, axis = 1)\n",
    "     print(df_out)\n",
    "     print(topo)\n",
    "     dataset = pd.concat([pd.DataFrame(df_out),dataset],ignore_index = True)\n",
    "\n",
    "# dataset.to_csv('dataset_8_node.csv')"
   ]
  },
  {
   "cell_type": "code",
   "execution_count": 30,
   "metadata": {},
   "outputs": [
    {
     "data": {
      "text/plain": [
       "4.0"
      ]
     },
     "execution_count": 30,
     "metadata": {},
     "output_type": "execute_result"
    }
   ],
   "source": [
    "par_list[2][7][i]"
   ]
  },
  {
   "cell_type": "code",
   "execution_count": 33,
   "metadata": {},
   "outputs": [
    {
     "name": "stdout",
     "output_type": "stream",
     "text": [
      "19.0\n"
     ]
    }
   ],
   "source": [
    "sum = 0\n",
    "for i in range(1000):\n",
    "     sum += par_list[2][10][i]-par_list[2][7][i]\n",
    "print (sum)"
   ]
  },
  {
   "cell_type": "code",
   "execution_count": 11,
   "metadata": {},
   "outputs": [
    {
     "data": {
      "text/plain": [
       "(1385, 8615)"
      ]
     },
     "execution_count": 11,
     "metadata": {},
     "output_type": "execute_result"
    }
   ],
   "source": [
    "low = 0\n",
    "high = 0\n",
    "for i in range (len(df1)):\n",
    "     if df1['A'][i] < 0: low += 1\n",
    "     if df1['A'][i] > 0: high += 1\n",
    "low,high"
   ]
  },
  {
   "cell_type": "code",
   "execution_count": 14,
   "metadata": {},
   "outputs": [
    {
     "data": {
      "text/plain": [
       "<function matplotlib.pyplot.show(close=None, block=None)>"
      ]
     },
     "execution_count": 14,
     "metadata": {},
     "output_type": "execute_result"
    },
    {
     "data": {
      "image/png": "[encoded data removed]",
      "text/plain": [
       "<Figure size 432x288 with 1 Axes>"
      ]
     },
     "metadata": {
      "needs_background": "light"
     },
     "output_type": "display_data"
    }
   ],
   "source": [
    "plt.hist(df1['A'], bins = 20)\n",
    "plt.show"
   ]
  },
  {
   "cell_type": "code",
   "execution_count": 228,
   "metadata": {},
   "outputs": [
    {
     "data": {
      "text/plain": [
       "(1385, 8615)"
      ]
     },
     "execution_count": 228,
     "metadata": {},
     "output_type": "execute_result"
    }
   ],
   "source": [
    "low = 0\n",
    "high = 0\n",
    "for i in range (len(df1)):\n",
    "     if df1['A'][i] < 0: low += 1\n",
    "     if df1['A'][i] > 0: high += 1\n",
    "low,high"
   ]
  },
  {
   "cell_type": "code",
   "execution_count": 16,
   "metadata": {},
   "outputs": [
    {
     "data": {
      "text/plain": [
       "<function matplotlib.pyplot.show(close=None, block=None)>"
      ]
     },
     "execution_count": 16,
     "metadata": {},
     "output_type": "execute_result"
    },
    {
     "data": {
      "image/png": "[encoded data removed]",
      "text/plain": [
       "<Figure size 432x288 with 1 Axes>"
      ]
     },
     "metadata": {
      "needs_background": "light"
     },
     "output_type": "display_data"
    }
   ],
   "source": [
    "plt.hist(df1['A'], bins = 20)\n",
    "plt.show"
   ]
  },
  {
   "cell_type": "code",
   "execution_count": 226,
   "metadata": {},
   "outputs": [
    {
     "data": {
      "text/plain": [
       "(522, 9478)"
      ]
     },
     "execution_count": 226,
     "metadata": {},
     "output_type": "execute_result"
    }
   ],
   "source": [
    "low = 0\n",
    "high = 0\n",
    "for i in range (len(df1)):\n",
    "     if df1['A'][i] < 0: low += 1\n",
    "     if df1['A'][i] > 0: high += 1\n",
    "low,high"
   ]
  },
  {
   "cell_type": "code",
   "execution_count": 223,
   "metadata": {},
   "outputs": [
    {
     "data": {
      "text/plain": [
       "<function matplotlib.pyplot.show(close=None, block=None)>"
      ]
     },
     "execution_count": 223,
     "metadata": {},
     "output_type": "execute_result"
    },
    {
     "data": {
      "image/png": "[encoded data removed]",
      "text/plain": [
       "<Figure size 432x288 with 1 Axes>"
      ]
     },
     "metadata": {
      "needs_background": "light"
     },
     "output_type": "display_data"
    }
   ],
   "source": [
    "plt.hist(df1['A'], bins = 20)\n",
    "plt.show"
   ]
  },
  {
   "cell_type": "code",
   "execution_count": 214,
   "metadata": {},
   "outputs": [
    {
     "data": {
      "text/plain": [
       "<function matplotlib.pyplot.show(close=None, block=None)>"
      ]
     },
     "execution_count": 214,
     "metadata": {},
     "output_type": "execute_result"
    },
    {
     "data": {
      "image/png": "[encoded data removed]",
      "text/plain": [
       "<Figure size 432x288 with 1 Axes>"
      ]
     },
     "metadata": {
      "needs_background": "light"
     },
     "output_type": "display_data"
    }
   ],
   "source": [
    "plt.hist(df1['A'], bins = 20)\n",
    "plt.show"
   ]
  },
  {
   "cell_type": "code",
   "execution_count": 36,
   "metadata": {},
   "outputs": [
    {
     "data": {
      "text/plain": [
       "<function matplotlib.pyplot.show(close=None, block=None)>"
      ]
     },
     "execution_count": 36,
     "metadata": {},
     "output_type": "execute_result"
    },
    {
     "data": {
      "image/png": "[encoded data removed]",
      "text/plain": [
       "<Figure size 432x288 with 1 Axes>"
      ]
     },
     "metadata": {
      "needs_background": "light"
     },
     "output_type": "display_data"
    }
   ],
   "source": [
    "plt.hist(df1['B'], bins = 200)\n",
    "plt.show"
   ]
  },
  {
   "cell_type": "code",
   "execution_count": 201,
   "metadata": {},
   "outputs": [
    {
     "data": {
      "text/plain": [
       "<function matplotlib.pyplot.show(close=None, block=None)>"
      ]
     },
     "execution_count": 201,
     "metadata": {},
     "output_type": "execute_result"
    },
    {
     "data": {
      "image/png": "[encoded data removed]",
      "text/plain": [
       "<Figure size 432x288 with 1 Axes>"
      ]
     },
     "metadata": {
      "needs_background": "light"
     },
     "output_type": "display_data"
    }
   ],
   "source": [
    "plt.hist(df1['A'], bins = 20)\n",
    "plt.show"
   ]
  },
  {
   "cell_type": "code",
   "execution_count": 182,
   "metadata": {},
   "outputs": [
    {
     "data": {
      "text/plain": [
       "<function matplotlib.pyplot.show(close=None, block=None)>"
      ]
     },
     "execution_count": 182,
     "metadata": {},
     "output_type": "execute_result"
    },
    {
     "data": {
      "image/png": "[encoded data removed]",
      "text/plain": [
       "<Figure size 432x288 with 1 Axes>"
      ]
     },
     "metadata": {
      "needs_background": "light"
     },
     "output_type": "display_data"
    }
   ],
   "source": [
    "plt.hist(df1['A'], bins = 20)\n",
    "plt.show"
   ]
  },
  {
   "cell_type": "code",
   "execution_count": 183,
   "metadata": {},
   "outputs": [
    {
     "data": {
      "text/plain": [
       "<function matplotlib.pyplot.show(close=None, block=None)>"
      ]
     },
     "execution_count": 183,
     "metadata": {},
     "output_type": "execute_result"
    },
    {
     "data": {
      "image/png": "[encoded data removed]",
      "text/plain": [
       "<Figure size 432x288 with 1 Axes>"
      ]
     },
     "metadata": {
      "needs_background": "light"
     },
     "output_type": "display_data"
    }
   ],
   "source": [
    "plt.hist(df1['B'], bins = 20)\n",
    "plt.show"
   ]
  },
  {
   "cell_type": "code",
   "execution_count": 149,
   "metadata": {},
   "outputs": [
    {
     "data": {
      "text/plain": [
       "<function matplotlib.pyplot.show(close=None, block=None)>"
      ]
     },
     "execution_count": 149,
     "metadata": {},
     "output_type": "execute_result"
    },
    {
     "data": {
      "image/png": "[encoded data removed]",
      "text/plain": [
       "<Figure size 432x288 with 1 Axes>"
      ]
     },
     "metadata": {
      "needs_background": "light"
     },
     "output_type": "display_data"
    }
   ],
   "source": [
    "plt.hist(df1['A'], bins = 20)\n",
    "plt.show"
   ]
  },
  {
   "cell_type": "code",
   "execution_count": 150,
   "metadata": {},
   "outputs": [
    {
     "data": {
      "text/plain": [
       "<function matplotlib.pyplot.show(close=None, block=None)>"
      ]
     },
     "execution_count": 150,
     "metadata": {},
     "output_type": "execute_result"
    },
    {
     "data": {
      "image/png": "[encoded data removed]",
      "text/plain": [
       "<Figure size 432x288 with 1 Axes>"
      ]
     },
     "metadata": {
      "needs_background": "light"
     },
     "output_type": "display_data"
    }
   ],
   "source": [
    "plt.hist(df1['B'], bins = 20)\n",
    "plt.show"
   ]
  },
  {
   "cell_type": "code",
   "execution_count": 102,
   "metadata": {},
   "outputs": [
    {
     "data": {
      "text/plain": [
       "<function matplotlib.pyplot.show(close=None, block=None)>"
      ]
     },
     "execution_count": 102,
     "metadata": {},
     "output_type": "execute_result"
    },
    {
     "data": {
      "image/png": "[encoded data removed]",
      "text/plain": [
       "<Figure size 432x288 with 1 Axes>"
      ]
     },
     "metadata": {
      "needs_background": "light"
     },
     "output_type": "display_data"
    }
   ],
   "source": [
    "plt.hist([df1['A'],df1['B']], bins = 50)\n",
    "plt.show"
   ]
  },
  {
   "cell_type": "code",
   "execution_count": 104,
   "metadata": {},
   "outputs": [
    {
     "data": {
      "text/plain": [
       "<function matplotlib.pyplot.show(close=None, block=None)>"
      ]
     },
     "execution_count": 104,
     "metadata": {},
     "output_type": "execute_result"
    },
    {
     "data": {
      "image/png": "[encoded data removed]",
      "text/plain": [
       "<Figure size 432x288 with 1 Axes>"
      ]
     },
     "metadata": {
      "needs_background": "light"
     },
     "output_type": "display_data"
    }
   ],
   "source": [
    "plt.hist([df1['A'],df1['B']], bins = 50)\n",
    "plt.show"
   ]
  },
  {
   "cell_type": "code",
   "execution_count": 106,
   "metadata": {},
   "outputs": [
    {
     "data": {
      "text/plain": [
       "<function matplotlib.pyplot.show(close=None, block=None)>"
      ]
     },
     "execution_count": 106,
     "metadata": {},
     "output_type": "execute_result"
    },
    {
     "data": {
      "image/png": "[encoded data removed]",
      "text/plain": [
       "<Figure size 432x288 with 1 Axes>"
      ]
     },
     "metadata": {
      "needs_background": "light"
     },
     "output_type": "display_data"
    }
   ],
   "source": [
    "plt.hist([df1['A'],df1['B']], bins = 50)\n",
    "plt.show"
   ]
  },
  {
   "cell_type": "code",
   "execution_count": 109,
   "metadata": {},
   "outputs": [
    {
     "data": {
      "text/plain": [
       "<function matplotlib.pyplot.show(close=None, block=None)>"
      ]
     },
     "execution_count": 109,
     "metadata": {},
     "output_type": "execute_result"
    },
    {
     "data": {
      "image/png": "[encoded data removed]",
      "text/plain": [
       "<Figure size 432x288 with 1 Axes>"
      ]
     },
     "metadata": {
      "needs_background": "light"
     },
     "output_type": "display_data"
    }
   ],
   "source": [
    "plt.hist([df1['A'],df1['B']], bins = 30)\n",
    "plt.show"
   ]
  },
  {
   "cell_type": "code",
   "execution_count": 34,
   "metadata": {},
   "outputs": [
    {
     "data": {
      "text/html": [
       "<div>\n",
       "<style scoped>\n",
       "    .dataframe tbody tr th:only-of-type {\n",
       "        vertical-align: middle;\n",
       "    }\n",
       "\n",
       "    .dataframe tbody tr th {\n",
       "        vertical-align: top;\n",
       "    }\n",
       "\n",
       "    .dataframe thead th {\n",
       "        text-align: right;\n",
       "    }\n",
       "</style>\n",
       "<table border=\"1\" class=\"dataframe\">\n",
       "  <thead>\n",
       "    <tr style=\"text-align: right;\">\n",
       "      <th></th>\n",
       "      <th>A</th>\n",
       "      <th>B</th>\n",
       "    </tr>\n",
       "  </thead>\n",
       "  <tbody>\n",
       "    <tr>\n",
       "      <th>0</th>\n",
       "      <td>-2.197774e-06</td>\n",
       "      <td>0.348400</td>\n",
       "    </tr>\n",
       "    <tr>\n",
       "      <th>1</th>\n",
       "      <td>5.552257e-07</td>\n",
       "      <td>1.663075</td>\n",
       "    </tr>\n",
       "    <tr>\n",
       "      <th>2</th>\n",
       "      <td>-8.007824e-07</td>\n",
       "      <td>-2.451874</td>\n",
       "    </tr>\n",
       "    <tr>\n",
       "      <th>3</th>\n",
       "      <td>-1.627671e-06</td>\n",
       "      <td>1.815869</td>\n",
       "    </tr>\n",
       "    <tr>\n",
       "      <th>4</th>\n",
       "      <td>1.475765e-06</td>\n",
       "      <td>-1.391878</td>\n",
       "    </tr>\n",
       "    <tr>\n",
       "      <th>...</th>\n",
       "      <td>...</td>\n",
       "      <td>...</td>\n",
       "    </tr>\n",
       "    <tr>\n",
       "      <th>99995</th>\n",
       "      <td>-1.168843e-07</td>\n",
       "      <td>-2.535709</td>\n",
       "    </tr>\n",
       "    <tr>\n",
       "      <th>99996</th>\n",
       "      <td>9.907694e-07</td>\n",
       "      <td>-0.713641</td>\n",
       "    </tr>\n",
       "    <tr>\n",
       "      <th>99997</th>\n",
       "      <td>1.854482e-06</td>\n",
       "      <td>0.685432</td>\n",
       "    </tr>\n",
       "    <tr>\n",
       "      <th>99998</th>\n",
       "      <td>-2.023047e-06</td>\n",
       "      <td>-4.041471</td>\n",
       "    </tr>\n",
       "    <tr>\n",
       "      <th>99999</th>\n",
       "      <td>6.170320e-07</td>\n",
       "      <td>0.931645</td>\n",
       "    </tr>\n",
       "  </tbody>\n",
       "</table>\n",
       "<p>100000 rows × 2 columns</p>\n",
       "</div>"
      ],
      "text/plain": [
       "                  A         B\n",
       "0     -2.197774e-06  0.348400\n",
       "1      5.552257e-07  1.663075\n",
       "2     -8.007824e-07 -2.451874\n",
       "3     -1.627671e-06  1.815869\n",
       "4      1.475765e-06 -1.391878\n",
       "...             ...       ...\n",
       "99995 -1.168843e-07 -2.535709\n",
       "99996  9.907694e-07 -0.713641\n",
       "99997  1.854482e-06  0.685432\n",
       "99998 -2.023047e-06 -4.041471\n",
       "99999  6.170320e-07  0.931645\n",
       "\n",
       "[100000 rows x 2 columns]"
      ]
     },
     "execution_count": 34,
     "metadata": {},
     "output_type": "execute_result"
    }
   ],
   "source": [
    "df1"
   ]
  },
  {
   "cell_type": "code",
   "execution_count": 9,
   "metadata": {},
   "outputs": [
    {
     "data": {
      "text/html": [
       "<div>\n",
       "<style scoped>\n",
       "    .dataframe tbody tr th:only-of-type {\n",
       "        vertical-align: middle;\n",
       "    }\n",
       "\n",
       "    .dataframe tbody tr th {\n",
       "        vertical-align: top;\n",
       "    }\n",
       "\n",
       "    .dataframe thead th {\n",
       "        text-align: right;\n",
       "    }\n",
       "</style>\n",
       "<table border=\"1\" class=\"dataframe\">\n",
       "  <thead>\n",
       "    <tr style=\"text-align: right;\">\n",
       "      <th></th>\n",
       "      <th>Source</th>\n",
       "      <th>Target</th>\n",
       "      <th>Type</th>\n",
       "    </tr>\n",
       "  </thead>\n",
       "  <tbody>\n",
       "    <tr>\n",
       "      <th>0</th>\n",
       "      <td>B</td>\n",
       "      <td>A</td>\n",
       "      <td>2</td>\n",
       "    </tr>\n",
       "  </tbody>\n",
       "</table>\n",
       "</div>"
      ],
      "text/plain": [
       "  Source Target  Type\n",
       "0      B      A     2"
      ]
     },
     "execution_count": 9,
     "metadata": {},
     "output_type": "execute_result"
    }
   ],
   "source": [
    "topo"
   ]
  },
  {
   "cell_type": "code",
   "execution_count": 12,
   "metadata": {},
   "outputs": [
    {
     "data": {
      "text/html": [
       "<div>\n",
       "<style scoped>\n",
       "    .dataframe tbody tr th:only-of-type {\n",
       "        vertical-align: middle;\n",
       "    }\n",
       "\n",
       "    .dataframe tbody tr th {\n",
       "        vertical-align: top;\n",
       "    }\n",
       "\n",
       "    .dataframe thead th {\n",
       "        text-align: right;\n",
       "    }\n",
       "</style>\n",
       "<table border=\"1\" class=\"dataframe\">\n",
       "  <thead>\n",
       "    <tr style=\"text-align: right;\">\n",
       "      <th></th>\n",
       "      <th>Source</th>\n",
       "      <th>Target</th>\n",
       "      <th>Type</th>\n",
       "    </tr>\n",
       "  </thead>\n",
       "  <tbody>\n",
       "    <tr>\n",
       "      <th>0</th>\n",
       "      <td>B</td>\n",
       "      <td>A</td>\n",
       "      <td>1</td>\n",
       "    </tr>\n",
       "  </tbody>\n",
       "</table>\n",
       "</div>"
      ],
      "text/plain": [
       "  Source Target  Type\n",
       "0      B      A     1"
      ]
     },
     "execution_count": 12,
     "metadata": {},
     "output_type": "execute_result"
    }
   ],
   "source": [
    "   A  B  freq_total  nodes  edges\n",
    "1  0  0        1060      2      1\n",
    "2  0  1        3345      2      1\n",
    "3  1  0        3343      2      1\n",
    "4  1  1        2252      2      1\n",
    "  Source Target  Type\n",
    "0      B      A     2"
   ]
  },
  {
   "cell_type": "code",
   "execution_count": null,
   "metadata": {},
   "outputs": [],
   "source": [
    "   A  B  freq_total  nodes  edges\n",
    "1  0  0           0      2      1\n",
    "2  0  1        3793      2      1\n",
    "3  1  0           0      2      1\n",
    "4  1  1        6206      2      1\n",
    "   A  B  freq_total  nodes  edges\n",
    "1  0  0           0      2      1\n",
    "2  0  1        3491      2      1\n",
    "3  1  0           0      2      1\n",
    "4  1  1        6508      2      1"
   ]
  },
  {
   "cell_type": "code",
   "execution_count": 163,
   "metadata": {},
   "outputs": [],
   "source": [
    "pd.set_option('display.max_rows',1000)"
   ]
  },
  {
   "cell_type": "code",
   "execution_count": null,
   "metadata": {},
   "outputs": [],
   "source": []
  }
 ],
 "metadata": {
  "kernelspec": {
   "display_name": "Python 3",
   "language": "python",
   "name": "python3"
  },
  "language_info": {
   "codemirror_mode": {
    "name": "ipython",
    "version": 3
   },
   "file_extension": ".py",
   "mimetype": "text/x-python",
   "name": "python",
   "nbconvert_exporter": "python",
   "pygments_lexer": "ipython3",
   "version": "3.8.9"
  },
  "orig_nbformat": 4,
  "vscode": {
   "interpreter": {
    "hash": "5edc29c2ed010d6458d71a83433b383a96a8cbd3efe8531bc90c4b8a5b8bcec9"
   }
  }
 },
 "nbformat": 4,
 "nbformat_minor": 2
}
